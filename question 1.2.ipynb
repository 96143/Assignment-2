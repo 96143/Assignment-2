import numpy as np
import matplotlib.pyplot as plt
from scipy.stats import bernoulli

#Number of samples is 10000
simlen=int(10000)

#Probability of the event candy is orange falvoured, i.e., X=1 is 1
prob = 1

#Generating samples using Bernoulli r.v.
data_bern = bernoulli.rvs(size=simlen,p=prob)
#Calculating the number of favourable outcomes
err_ind = np.nonzero(data_bern == 1)
#calculating the probability
err_n = np.size(err_ind)/simlen
#Total no. of orange flavoured candies
#Using simulation
b_sim=simlen*(1-err_n)
#Using exact probability
b_act=simlen*(1-prob)
#Theory vs simulation
print("Probability-simulation,actual:",1-err_n,1-prob)
print("No. of orange candies-simulation,actual:",b_sim,b_act)
#for lemon flavoured candies
print("Probability-simulation,actual:",err_n,prob)
print("No. of lemon candies-simulation,actual:",simlen*(err_n),simlen*(prob))
print("Samples generated:",data_bern)

#print("No of orange candies", sum(e.count(0) for e in data_bern))
